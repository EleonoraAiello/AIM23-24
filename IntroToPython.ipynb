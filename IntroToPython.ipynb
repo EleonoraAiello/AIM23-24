{
 "cells": [
  {
   "cell_type": "markdown",
   "metadata": {
    "id": "g_xEwBDODz_i"
   },
   "source": [
    "# Introduction to Python\n",
    "\n"
   ]
  },
  {
   "cell_type": "markdown",
   "metadata": {},
   "source": [
    "[![Open In Colab](https://colab.research.google.com/assets/colab-badge.svg)](https://colab.research.google.com/github/EleonoraAiello/AIM23-24/blob/main/IntroToPython.ipynb)\n",
    "    "
   ]
  },
  {
   "cell_type": "code",
   "execution_count": 1,
   "metadata": {
    "id": "fxQBWpGtny49"
   },
   "outputs": [],
   "source": [
    "# 'generic import' of math module\n",
    "import math\n",
    "math.sqrt(25)\n",
    "\n",
    "# import functions at once\n",
    "from math import cos, floor\n",
    "\n",
    "# define an alias\n",
    "import pandas as pd\n"
   ]
  },
  {
   "cell_type": "markdown",
   "metadata": {
    "id": "EP8si_8kohnb"
   },
   "source": [
    "## Data Types\n",
    "\n",
    "Python is a dynamically typed language. This means that the type of each variable is not fixed, but it is rather determined by the execution flow of your program. The major data types in Python are: *integers*, *floating points*, *lists*, *tuples*, *dictionaries*, *sets*, *strings* and *booleans*.\n"
   ]
  },
  {
   "cell_type": "code",
   "execution_count": 2,
   "metadata": {
    "colab": {
     "base_uri": "https://localhost:8080/"
    },
    "executionInfo": {
     "elapsed": 248,
     "status": "ok",
     "timestamp": 1678704899588,
     "user": {
      "displayName": "Matteo Farina",
      "userId": "11505768261096518784"
     },
     "user_tz": -60
    },
    "id": "c1Pak5KQon1C",
    "outputId": "48b26dd3-00a3-441e-ebb8-1f0fa7884f59"
   },
   "outputs": [
    {
     "data": {
      "text/plain": [
       "True"
      ]
     },
     "execution_count": 2,
     "metadata": {},
     "output_type": "execute_result"
    }
   ],
   "source": [
    "# determine the type of an object\n",
    "type(2)         # returns 'int'\n",
    "type(2.0)       # returns 'float'\n",
    "type('two')     # returns 'str'\n",
    "type(True)      # returns 'bool'\n",
    "type(None)      # returns 'NoneType'\n",
    "\n",
    "# convert an object to a given type\n",
    "float(2)\n",
    "int(2.9)\n",
    "str(2.9)\n"
   ]
  },
  {
   "cell_type": "markdown",
   "metadata": {
    "id": "KnmP1cdMpX-w"
   },
   "source": [
    "## Math"
   ]
  },
  {
   "cell_type": "code",
   "execution_count": 3,
   "metadata": {
    "colab": {
     "base_uri": "https://localhost:8080/"
    },
    "executionInfo": {
     "elapsed": 846,
     "status": "ok",
     "timestamp": 1678704908067,
     "user": {
      "displayName": "Matteo Farina",
      "userId": "11505768261096518784"
     },
     "user_tz": -60
    },
    "id": "dl-V7AsMpcq-",
    "outputId": "a2bb85a3-825c-4ddc-9827-98a4267af415"
   },
   "outputs": [
    {
     "data": {
      "text/plain": [
       "2"
      ]
     },
     "execution_count": 3,
     "metadata": {},
     "output_type": "execute_result"
    }
   ],
   "source": [
    "# basic operations\n",
    "10 + 4          # add (returns 14)\n",
    "10 - 4          # subtract (returns 6)\n",
    "10 * 4          # multiply (returns 40)\n",
    "10 ** 4         # exponent (returns 10000)\n",
    "5 % 4           # modulo (returns 1) - computes the remainder\n",
    "10 / 4          # divide (returns 2.5)\n",
    "10 // 4         # floor division (returns 2)"
   ]
  },
  {
   "cell_type": "code",
   "execution_count": 7,
   "metadata": {},
   "outputs": [
    {
     "name": "stdout",
     "output_type": "stream",
     "text": [
      "Type of the array: <class 'numpy.ndarray'>\n",
      "Rank of the array: 1\n",
      "Shape of the array: (3,)\n",
      "The array itself: [1 2 3]\n",
      "Now the array has changed: [5 2 3]\n"
     ]
    }
   ],
   "source": [
    "# here we 'alias' the NumPy library with the alias 'np'\n",
    "import numpy as np\n",
    "\n",
    "# Create a rank 1 array\n",
    "a = np.array([1, 2, 3])\n",
    "print(\"Type of the array:\", type(a))\n",
    "print(\"Rank of the array:\", a.ndim)\n",
    "print(\"Shape of the array:\", a.shape)\n",
    "print(\"The array itself:\", a)\n",
    "\n",
    "# access / change an element of the array\n",
    "a[0] = 5\n",
    "print(\"Now the array has changed:\", a)  \n"
   ]
  },
  {
   "cell_type": "code",
   "execution_count": 17,
   "metadata": {},
   "outputs": [
    {
     "name": "stdout",
     "output_type": "stream",
     "text": [
      "The array itself:\n",
      " [[1 2 3]\n",
      " [4 5 6]]\n",
      "Rank of the array: 2\n",
      "Shape of the array: (2, 3)\n",
      "Now the array has changed:\n",
      " [[5 2 3]\n",
      " [4 5 6]]\n"
     ]
    }
   ],
   "source": [
    "# Create a rank 2 array\n",
    "nested_list = [[1,2,3],\n",
    "               [4,5,6]]\n",
    "b = np.array(nested_list)\n",
    "print(\"The array itself:\\n\", b)\n",
    "print(\"Rank of the array:\", b.ndim)\n",
    "print(\"Shape of the array:\", b.shape)\n",
    "\n",
    "# access / change individual elements of the array\n",
    "b[0,0] = 5\n",
    "print(\"Now the array has changed:\\n\", b)\n",
    "\n"
   ]
  },
  {
   "cell_type": "code",
   "execution_count": 18,
   "metadata": {},
   "outputs": [
    {
     "name": "stdout",
     "output_type": "stream",
     "text": [
      "[[2 3 4]\n",
      " [6 7 8]]\n",
      "[[ 1 12 13 14]\n",
      " [ 5 16 17 18]\n",
      " [ 9 10 11 12]]\n"
     ]
    }
   ],
   "source": [
    "# Create the following rank 2 array with shape (3, 4)\n",
    "# [[ 1  2  3  4]\n",
    "#  [ 5  6  7  8]\n",
    "#  [ 9 10 11 12]]\n",
    "a = np.array([[1,2,3,4], [5,6,7,8], [9,10,11,12]])\n",
    "\n",
    "#accessing rows of an array\n",
    "row_r1 = a[1, :]    # Rank 1 view of the second row of a  \n",
    "row_r2 = a[1:2, :]  # Rank 2 view of the second row of a\n",
    "\n",
    "# We can make the same distinction when accessing columns of an array:\n",
    "col_r1 = a[:, 1]\n",
    "col_r2 = a[:, 1:2]\n",
    "# Use slicing to extract the subarray consisting of the first 2 rows\n",
    "# and the last 3 columns \n",
    "\n",
    "b = a[:2, 1:]\n",
    "print(b)\n",
    "\n",
    "# Mutate one element from each row of a using the indices in b\n",
    "# This is useful when the same operation must be applied to more cells!\n",
    "a[:2, 1:] += 10\n",
    "print(a)"
   ]
  },
  {
   "cell_type": "code",
   "execution_count": 5,
   "metadata": {},
   "outputs": [
    {
     "name": "stdout",
     "output_type": "stream",
     "text": [
      "first line\n",
      "second line\n",
      "first line\\nfirst line\n"
     ]
    }
   ],
   "source": [
    "# create a string\n",
    "s = 'I like you'\n",
    "\n",
    "# examine a string (you can see them as python lists of characters!)\n",
    "s[0]                # returns 'I'\n",
    "len(s)              # returns 10\n",
    "\n",
    "\n",
    "# string slicing is like list slicing\n",
    "s[:6]               # returns 'I like'\n",
    "s[7:]               # returns 'you'\n",
    "s[-1]               # returns 'u'\n",
    "\n",
    "# basic string methods (does not modify the original string)\n",
    "s.startswith('I')   # returns True\n",
    "s.endswith('you')   # returns True\n",
    "s.find('like')      # returns index of first occurrence (2), but doesn't support regex\n",
    "s.find('hate')      # returns -1 since not found\n",
    "s.replace('like', 'love')    # replaces all instances of 'like' with 'love'\n",
    "\n",
    "# split a string into a list of substrings separated by a delimiter\n",
    "s.split(' ')        # returns ['I', 'like', 'you']\n",
    "s.split()           # equivalent (since space is the default delimiter)\n",
    "s2 = 'a, an, the'\n",
    "s2.split(',')       # returns ['a', ' an', ' the']\n",
    "\n",
    "# concatenate strings\n",
    "s3 = 'The meaning of life is'\n",
    "s4 = '42'\n",
    "s3 + ' ' + s4       # returns 'The meaning of life is 42'\n"
   ]
  },
  {
   "cell_type": "markdown",
   "metadata": {},
   "source": [
    "## Lists\n",
    "\n",
    "Lists are tha main python objects to encapsulate a sequence. Lists can be ordered, they are iterable (i.e. you can loop through lists), they are mutable (i.e. you can change their content) and, most importantly, they can contain multiple data types!"
   ]
  },
  {
   "cell_type": "code",
   "execution_count": null,
   "metadata": {},
   "outputs": [],
   "source": [
    "# create an empty list (two ways)\n",
    "#loc\n",
    "\n",
    "empty_list = []\n",
    "empty_list = list()\n",
    "\n",
    "# create a list\n",
    "\n",
    "elements = ['Hand', 'BreastMRI', 'ChestCT']\n",
    "\n",
    "# examine a list\n",
    "elements[0]     # print element 0 ('Hand')\n",
    "len(elements)   # returns the length (3)\n",
    "\n",
    "# modify a list (does not return the list)\n",
    "elements.append('HeadCT')                 # append element to end\n",
    "elements.extend(['Abdomen', 'CXR'])  # append multiple elements to end\n",
    "elements.remove('BreastMRI')                 # search for the first instance of 'BreastMRI' and removes it\n",
    "elements.pop(0)                         # remove element 0 and return it\n",
    "elements[0] = 'HeadCT'                  # replace element 0\n",
    "\n",
    "# find elements in a list\n",
    "elements.count('HeadCT')      # counts the number of instances\n",
    "elements.index('Abdomen')     # returns index of first instance\n",
    "\n",
    "# list slicing [start:end:step]\n",
    "\n",
    "weekdays[0]         # element 0\n",
    "weekdays[0:3]       # elements 0, 1, 2\n",
    "weekdays[:3]        # elements 0, 1, 2 (default start is 0)\n",
    "weekdays[3:]        # elements 3, 4\n",
    "weekdays[-1]        # last element (element 4)\n",
    "weekdays[::2]       # every 2nd element (0, 2, 4)\n",
    "weekdays[::-1]      # backwards (4, 3, 2, 1, 0)\n",
    "\n",
    "\n",
    "# sort a list in place (modifies but does not return the list)\n",
    "elements.sort()"
   ]
  },
  {
   "cell_type": "markdown",
   "metadata": {
    "id": "v4yeYLH4ptAk"
   },
   "source": [
    "## Comparison and Boolean operators"
   ]
  },
  {
   "cell_type": "code",
   "execution_count": 3,
   "metadata": {
    "colab": {
     "base_uri": "https://localhost:8080/"
    },
    "executionInfo": {
     "elapsed": 686,
     "status": "ok",
     "timestamp": 1678704934025,
     "user": {
      "displayName": "Matteo Farina",
      "userId": "11505768261096518784"
     },
     "user_tz": -60
    },
    "id": "FWdAWC6lpxYe",
    "outputId": "1c3118b8-108a-444d-b552-7542d13f76c9"
   },
   "outputs": [
    {
     "data": {
      "text/plain": [
       "True"
      ]
     },
     "execution_count": 3,
     "metadata": {},
     "output_type": "execute_result"
    }
   ],
   "source": [
    "# assignment statement\n",
    "x = 5\n",
    "\n",
    "# comparisons (these return True)\n",
    "x > 3\n",
    "x >= 3\n",
    "x != 3\n",
    "x == 5\n",
    "\n",
    "# boolean operations (these return True)\n",
    "5 > 3 and 6 > 3\n",
    "5 > 3 or 5 < 3\n",
    "\n",
    "(False or ((not False) and True))     # evaluation order: not, and, or"
   ]
  },
  {
   "cell_type": "markdown",
   "metadata": {
    "id": "-VdnI2tdqJ-z"
   },
   "source": [
    "## Conditional statements"
   ]
  },
  {
   "cell_type": "code",
   "execution_count": 4,
   "metadata": {
    "colab": {
     "base_uri": "https://localhost:8080/"
    },
    "executionInfo": {
     "elapsed": 255,
     "status": "ok",
     "timestamp": 1678704984026,
     "user": {
      "displayName": "Matteo Farina",
      "userId": "11505768261096518784"
     },
     "user_tz": -60
    },
    "id": "UAsZm7n3qOmb",
    "outputId": "58a1f793-69b3-4a71-afca-a14f264e8715"
   },
   "outputs": [
    {
     "name": "stdout",
     "output_type": "stream",
     "text": [
      "positive\n",
      "positive\n",
      "positive\n"
     ]
    }
   ],
   "source": [
    "# if statement\n",
    "if x > 0:\n",
    "    print('positive')\n",
    "\n",
    "# if/else statement\n",
    "if x > 0:\n",
    "    print('positive')\n",
    "else:\n",
    "    print('zero or negative')\n",
    "\n",
    "# if/elif/else statement\n",
    "if x > 0:\n",
    "    print('positive')\n",
    "elif x == 0:\n",
    "    print('zero')\n",
    "else:\n",
    "    print('negative')\n"
   ]
  },
  {
   "cell_type": "markdown",
   "metadata": {
    "id": "5hCQT664qUg7"
   },
   "source": [
    "## For loop"
   ]
  },
  {
   "cell_type": "code",
   "execution_count": 24,
   "metadata": {
    "colab": {
     "base_uri": "https://localhost:8080/"
    },
    "executionInfo": {
     "elapsed": 329,
     "status": "ok",
     "timestamp": 1678705308008,
     "user": {
      "displayName": "Matteo Farina",
      "userId": "11505768261096518784"
     },
     "user_tz": -60
    },
    "id": "2xbDeRvKqd8m",
    "outputId": "fd2d31ca-5cc8-40e4-cc03-7974d8452323"
   },
   "outputs": [
    {
     "name": "stdout",
     "output_type": "stream",
     "text": [
      "0 mon\n",
      "1 tues\n",
      "2 wed\n",
      "3 thurs\n",
      "4 fri\n",
      "0 mon\n",
      "1 tues\n",
      "2 wed\n",
      "3 thurs\n",
      "4 fri\n",
      "mon\n",
      "wed\n",
      "thurs\n",
      "fri\n",
      "Count is 0\n",
      "Count is 1\n",
      "Count is 2\n",
      "Count is 3\n",
      "Count is 4\n",
      "Count is 5, not in the while loop anymore.\n"
     ]
    }
   ],
   "source": [
    "# range returns a sequence \n",
    "range(0, 3)     # returns [0, 1, 2]: includes start value but excludes stop value\n",
    "range(3)        # equivalent: default start value is 0\n",
    "range(0, 5, 2)  # returns [0, 2, 4]: third argument is the step value\n",
    "\n",
    "# for loop to create a list of cubes\n",
    "nums = [1, 2, 3, 4, 5]\n",
    "cubes = []\n",
    "for num in nums:\n",
    "    cubes.append(num**3)\n",
    "\n",
    "# for loop to create a list of cubes of even numbers\n",
    "cubes_of_even = []\n",
    "for num in nums:\n",
    "    if num % 2 == 0:\n",
    "        cubes_of_even.append(num**3)\n",
    "\n",
    "# for loop to cube even numbers and square odd numbers\n",
    "cubes_and_squares = []\n",
    "for num in nums:\n",
    "    if num % 2 == 0:\n",
    "        cubes_and_squares.append(num**3)\n",
    "    else:\n",
    "        cubes_and_squares.append(num**2)\n"
   ]
  },
  {
   "cell_type": "markdown",
   "metadata": {
    "id": "YiTWWfuBqfON"
   },
   "source": [
    "\n",
    "# while loop"
   ]
  },
  {
   "cell_type": "code",
   "execution_count": null,
   "metadata": {
    "colab": {
     "base_uri": "https://localhost:8080/",
     "height": 244
    },
    "executionInfo": {
     "elapsed": 319,
     "status": "error",
     "timestamp": 1678705400699,
     "user": {
      "displayName": "Matteo Farina",
      "userId": "11505768261096518784"
     },
     "user_tz": -60
    },
    "id": "54If2zTQqgsw",
    "outputId": "32ece715-af77-491a-dbf6-d90842ceacd1"
   },
   "outputs": [],
   "source": [
    "\n",
    "count = 0\n",
    "while count < 5:\n",
    "    print(f'Count is {count}')\n",
    "    count += 1    # equivalent to 'count = count + 1', there is no '++' in python\n",
    "print(f\"Count is {count}, not in the while loop anymore.\")"
   ]
  },
  {
   "cell_type": "markdown",
   "metadata": {},
   "source": [
    "## Functions"
   ]
  },
  {
   "cell_type": "code",
   "execution_count": 28,
   "metadata": {
    "colab": {
     "base_uri": "https://localhost:8080/"
    },
    "executionInfo": {
     "elapsed": 350,
     "status": "ok",
     "timestamp": 1678705697589,
     "user": {
      "displayName": "Matteo Farina",
      "userId": "11505768261096518784"
     },
     "user_tz": -60
    },
    "id": "u18XYaVTrqYT",
    "outputId": "3897b879-a590-4241-c4b8-de2287e946f5"
   },
   "outputs": [
    {
     "name": "stdout",
     "output_type": "stream",
     "text": [
      "this is text\n",
      "3\n",
      "3\n",
      "None\n"
     ]
    }
   ],
   "source": [
    "# define a function with no arguments and no return values\n",
    "def print_text():\n",
    "    print('this is text')\n",
    "\n",
    "# call the function\n",
    "print_text()\n",
    "\n",
    "# define a function with one argument and no return values\n",
    "def print_this(x):\n",
    "    print(x)\n",
    "\n",
    "# call the function\n",
    "print_this(3)       # prints 3\n",
    "n = print_this(3)   # prints 3, but doesn't assign 3 to n\n",
    "                    #   because the function has no return statement\n",
    "print(n)\n",
    "# define a function with one argument and one return value\n",
    "def square_this(x):\n",
    "    return x**2\n",
    "\n",
    "# include an optional docstring to describe the effect of a function\n",
    "# (hover with your mouse on the function name to see the effect of docstrings)\n",
    "def square_this(x):\n",
    "    \"\"\"Return the square of a number.\"\"\"\n",
    "    return x**2\n",
    "\n",
    "# call the function\n",
    "square_this(3)          # prints 9\n",
    "var = square_this(3)    # assigns 9 to var, but does not print 9\n"
   ]
  },
  {
   "cell_type": "code",
   "execution_count": null,
   "metadata": {},
   "outputs": [],
   "source": []
  }
 ],
 "metadata": {
  "colab": {
   "provenance": [
    {
     "file_id": "1Tg6_ynEaYaoJyGfA11cV3ro2kkA88hQq",
     "timestamp": 1677840153680
    }
   ]
  },
  "kernelspec": {
   "display_name": "Python 3 (ipykernel)",
   "language": "python",
   "name": "python3"
  },
  "language_info": {
   "codemirror_mode": {
    "name": "ipython",
    "version": 3
   },
   "file_extension": ".py",
   "mimetype": "text/x-python",
   "name": "python",
   "nbconvert_exporter": "python",
   "pygments_lexer": "ipython3",
   "version": "3.11.4"
  }
 },
 "nbformat": 4,
 "nbformat_minor": 4
}
